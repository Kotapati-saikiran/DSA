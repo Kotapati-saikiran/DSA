{
 "cells": [
  {
   "cell_type": "code",
   "execution_count": 1,
   "id": "a8b33114-97f3-4811-9ae4-6c3b7021283f",
   "metadata": {},
   "outputs": [
    {
     "name": "stdout",
     "output_type": "stream",
     "text": [
      "Original Linked List:\n",
      "1 ---> 2 ---> 3 ---> 4 ---> 5 ---> None\n",
      "\n",
      "Reversed Linked List:\n",
      "5 ---> 4 ---> 3 ---> 2 ---> 1 ---> None\n"
     ]
    }
   ],
   "source": [
    "#Reverse the Linked list\n",
    "class Node:\n",
    "    def __init__(self, data): \n",
    "        self.data = data  \n",
    "        self.ref = None  \n",
    "\n",
    "class LinkedList:\n",
    "    def __init__(self):\n",
    "        self.head = None\n",
    "\n",
    "    def add_begin(self, data): \n",
    "        # Adding a new node at the beginning\n",
    "        new_node = Node(data)\n",
    "        new_node.ref = self.head\n",
    "        self.head = new_node\n",
    "\n",
    "    def traversal(self): \n",
    "        # Traversing the linked list and printing its elements\n",
    "        if self.head is None:\n",
    "            print(\"Linked list is empty\")\n",
    "        else:\n",
    "            n = self.head\n",
    "            while n is not None:\n",
    "                print(n.data, \"--->\", end=\" \")\n",
    "                n = n.ref\n",
    "            print(\"None\")\n",
    "\n",
    "    def reverse(self):\n",
    "        # Reversing the linked list\n",
    "        prev = None\n",
    "        current = self.head\n",
    "        while current is not None:\n",
    "            next_node = current.ref  # Save next node\n",
    "            current.ref = prev  # Reverse the current node's reference\n",
    "            prev = current  # Move prev and current one step forward\n",
    "            current = next_node\n",
    "        self.head = prev  # Set the head to the last node (new head after reversal)\n",
    "\n",
    "# Example usage\n",
    "ll = LinkedList()\n",
    "ll.add_begin(5)\n",
    "ll.add_begin(4)\n",
    "ll.add_begin(3)\n",
    "ll.add_begin(2)\n",
    "ll.add_begin(1)\n",
    "print(\"Original Linked List:\")\n",
    "ll.traversal()\n",
    "ll.reverse()\n",
    "print(\"\\nReversed Linked List:\")\n",
    "ll.traversal()"
   ]
  },
  {
   "cell_type": "code",
   "execution_count": 30,
   "id": "1b4d0715-04fe-44de-8b60-8ac406fb36a2",
   "metadata": {},
   "outputs": [
    {
     "name": "stdout",
     "output_type": "stream",
     "text": [
      "2 ---> 3 ---> 4 ---> 1 ---> None\n"
     ]
    }
   ],
   "source": [
    "class Node:\n",
    "    def __init__(self, data): \n",
    "        self.data = data  \n",
    "        self.ref = None  \n",
    "\n",
    "class LinkedList:\n",
    "\n",
    "    def __init__(self):\n",
    "        self.head = None\n",
    "\n",
    "    def add_begin(self, data): \n",
    "        new_node = Node(data)\n",
    "        new_node.ref = self.head\n",
    "        self.head = new_node\n",
    "        \n",
    "    def traversal(self): \n",
    "        if self.head is None:\n",
    "            print(\"Linked list is empty\")\n",
    "        else:\n",
    "            n = self.head\n",
    "            while n is not None:\n",
    "                print(n.data, \"--->\", end=\" \")\n",
    "                n = n.ref\n",
    "            print(\"None\")\n",
    "    def add_afternode(self,data,x):\n",
    "        n=self.head\n",
    "        while n is not None:\n",
    "            if x==n.data:\n",
    "                new_node=Node(data)\n",
    "                new_node.ref=n.ref\n",
    "                n.ref=new_node\n",
    "                return\n",
    "            n=n.ref\n",
    "        print(x)\n",
    "        \n",
    "l1=LinkedList()\n",
    "l1.add_begin(1)\n",
    "l1.add_begin(2)\n",
    "l1.add_afternode(3,2)\n",
    "l1.add_afternode(4,3)\n",
    "l1.traversal()"
   ]
  },
  {
   "cell_type": "code",
   "execution_count": 7,
   "id": "38f7971d-3d5e-4b32-a7a0-d86333a07e78",
   "metadata": {
    "scrolled": true
   },
   "outputs": [
    {
     "name": "stdin",
     "output_type": "stream",
     "text": [
      "Enter the number of test cases:  2\n",
      "Enter the list1 elements count:  2\n",
      "Enter the elements of the list1:  1\n",
      "Enter the elements of the list1:  2\n",
      "Enter the list2 elements count:  1\n",
      "Enter the elements of list2:  1\n",
      "Enter the list1 elements count:  2\n",
      "Enter the elements of the list1:  1\n",
      "Enter the elements of the list1:  2\n",
      "Enter the list2 elements count:  2\n",
      "Enter the elements of list2:  1\n",
      "Enter the elements of list2:  2\n"
     ]
    },
    {
     "name": "stdout",
     "output_type": "stream",
     "text": [
      "0\n",
      "1\n"
     ]
    }
   ],
   "source": [
    "#comparing of the elements \n",
    "class SinglyLinkedListNode:\n",
    "    def __init__(self, node_data):\n",
    "        self.data = node_data\n",
    "        self.next = None\n",
    "\n",
    "class SinglyLinkedList:\n",
    "    def __init__(self):\n",
    "        self.head = None\n",
    "        self.tail = None\n",
    "\n",
    "    def insert_node(self, node_data):\n",
    "        node = SinglyLinkedListNode(node_data)\n",
    "        if not self.head:\n",
    "            self.head = node\n",
    "        else:\n",
    "            self.tail.next = node\n",
    "        self.tail = node\n",
    "\n",
    "def compare_lists(llist1, llist2):\n",
    "    n1=llist1\n",
    "    n2=llist2\n",
    "    while n1 or n2:\n",
    "        if(n1.data==n2.data and llist1_count==llist2_count):\n",
    "            n1=n1.next\n",
    "            n2=n2.next\n",
    "        else:\n",
    "            return 0\n",
    "    return 1\n",
    "test_cases = int(input(\"Enter the number of test cases: \"))\n",
    "results = []\n",
    "for _ in range(test_cases):\n",
    "    llist1_count = int(input(\"Enter the list1 elements count: \"))\n",
    "    llist1 = SinglyLinkedList()\n",
    "\n",
    "    for _ in range(llist1_count):\n",
    "        llist1_item = int(input(\"Enter the elements of the list1: \"))\n",
    "        llist1.insert_node(llist1_item)\n",
    "\n",
    "    llist2_count = int(input(\"Enter the list2 elements count: \"))\n",
    "    llist2 = SinglyLinkedList()\n",
    "\n",
    "    for _ in range(llist2_count):\n",
    "        llist2_item = int(input(\"Enter the elements of list2: \"))\n",
    "        llist2.insert_node(llist2_item)\n",
    "    result = compare_lists(llist1.head, llist2.head)\n",
    "    results.append(result)\n",
    "for res in results:\n",
    "    print(res)"
   ]
  },
  {
   "cell_type": "code",
   "execution_count": 1,
   "id": "283a6480-6bfa-41df-8dc7-014dbad64479",
   "metadata": {},
   "outputs": [
    {
     "name": "stdin",
     "output_type": "stream",
     "text": [
      "Enter the number of test cases:  1\n"
     ]
    },
    {
     "name": "stdout",
     "output_type": "stream",
     "text": [
      "\n",
      "Test case 1:\n"
     ]
    },
    {
     "name": "stdin",
     "output_type": "stream",
     "text": [
      "Enter the number of elements in the first list:  3\n"
     ]
    },
    {
     "name": "stdout",
     "output_type": "stream",
     "text": [
      "Enter 3 sorted elements for the first list:\n"
     ]
    },
    {
     "name": "stdin",
     "output_type": "stream",
     "text": [
      " 1\n",
      " 3\n",
      " 5\n",
      "Enter the number of elements in the second list:  3\n"
     ]
    },
    {
     "name": "stdout",
     "output_type": "stream",
     "text": [
      "Enter 3 sorted elements for the second list:\n"
     ]
    },
    {
     "name": "stdin",
     "output_type": "stream",
     "text": [
      " 2\n",
      " 4\n",
      " 6\n"
     ]
    },
    {
     "name": "stdout",
     "output_type": "stream",
     "text": [
      "Merged list: 1 2 3 4 5 6 \n"
     ]
    }
   ],
   "source": [
    "#Merge two linked lists\n",
    "class SinglyLinkedListNode:\n",
    "    def __init__(self, node_data):\n",
    "        self.data = node_data\n",
    "        self.next = None\n",
    "\n",
    "class SinglyLinkedList:\n",
    "    def __init__(self):\n",
    "        self.head = None\n",
    "        self.tail = None\n",
    "\n",
    "    def insert_node(self, node_data):\n",
    "        node = SinglyLinkedListNode(node_data)\n",
    "\n",
    "        if not self.head:\n",
    "            self.head = node\n",
    "        else:\n",
    "            self.tail.next = node\n",
    "\n",
    "        self.tail = node\n",
    "\n",
    "def print_singly_linked_list(node, sep=' '):\n",
    "    while node:\n",
    "        print(node.data, end=sep)\n",
    "        node = node.next\n",
    "    print()\n",
    "\n",
    "def mergeLists(head1, head2):\n",
    "    a=SinglyLinkedListNode(0)\n",
    "    c=a\n",
    "    while head1 and head2:\n",
    "        if(head1.data<=head2.data):\n",
    "            c.next=head1\n",
    "            head1=head1.next\n",
    "        else:\n",
    "            c.next=head2\n",
    "            head2=head2.next\n",
    "        c=c.next\n",
    "    if head1:\n",
    "        c.next=head1\n",
    "    if head2:\n",
    "        c.next=head2\n",
    "    return a.next\n",
    "# Main function to take user inputs\n",
    "if __name__ == '__main__':\n",
    "    tests = int(input(\"Enter the number of test cases: \"))\n",
    "\n",
    "    for test_itr in range(tests):\n",
    "        print(f\"\\nTest case {test_itr + 1}:\")\n",
    "\n",
    "        # Input for the first linked list\n",
    "        llist1_count = int(input(\"Enter the number of elements in the first list: \"))\n",
    "        llist1 = SinglyLinkedList()\n",
    "\n",
    "        print(f\"Enter {llist1_count} sorted elements for the first list:\")\n",
    "        for _ in range(llist1_count):\n",
    "            llist1_item = int(input())\n",
    "            llist1.insert_node(llist1_item)\n",
    "\n",
    "        # Input for the second linked list\n",
    "        llist2_count = int(input(\"Enter the number of elements in the second list: \"))\n",
    "        llist2 = SinglyLinkedList()\n",
    "\n",
    "        print(f\"Enter {llist2_count} sorted elements for the second list:\")\n",
    "        for _ in range(llist2_count):\n",
    "            llist2_item = int(input())\n",
    "            llist2.insert_node(llist2_item)\n",
    "\n",
    "        # Merging the lists\n",
    "        merged_list = mergeLists(llist1.head, llist2.head)\n",
    "\n",
    "        # Printing the merged list\n",
    "        print(\"Merged list:\", end=\" \")\n",
    "        print_singly_linked_list(merged_list)"
   ]
  },
  {
   "cell_type": "code",
   "execution_count": 8,
   "id": "ff18af94-412a-4324-9023-5d6f227bb528",
   "metadata": {},
   "outputs": [
    {
     "name": "stdout",
     "output_type": "stream",
     "text": [
      "1 ---> 2 ---> 3 ---> None\n",
      "No cycle in the Linked List.\n"
     ]
    }
   ],
   "source": [
    "#Detect a cycle in linked list\n",
    "class Node:\n",
    "    def __init__(self, data):\n",
    "        self.data = data  \n",
    "        self.ref = None  \n",
    "\n",
    "class LinkedList:\n",
    "    def __init__(self):\n",
    "        self.head = None\n",
    "\n",
    "    def add_begin(self, data):\n",
    "        new_node = Node(data)\n",
    "        new_node.ref = self.head\n",
    "        self.head = new_node\n",
    "\n",
    "    def traversal(self):\n",
    "        if self.head is None:\n",
    "            print(\"Empty Linked List\")\n",
    "        else:\n",
    "            n = self.head\n",
    "            while n is not None:\n",
    "                print(n.data, \"--->\", end=\" \")\n",
    "                n = n.ref\n",
    "            print(\"None\")\n",
    "            \n",
    "    def has_cycle(self):\n",
    "        slow = self.head\n",
    "        fast = self.head\n",
    "        while fast and fast.ref:  \n",
    "            slow = slow.ref\n",
    "            fast = fast.ref.ref\n",
    "            if slow == fast:\n",
    "                return True\n",
    "        return False \n",
    "ll = LinkedList()\n",
    "ll.add_begin(3)\n",
    "ll.add_begin(2)\n",
    "ll.add_begin(1)\n",
    "ll.traversal()\n",
    "if ll.has_cycle():\n",
    "    print(\"Cycle detected in the Linked List.\")\n",
    "else:\n",
    "    print(\"No cycle in the Linked List.\")"
   ]
  }
 ],
 "metadata": {
  "kernelspec": {
   "display_name": "Python 3 (ipykernel)",
   "language": "python",
   "name": "python3"
  },
  "language_info": {
   "codemirror_mode": {
    "name": "ipython",
    "version": 3
   },
   "file_extension": ".py",
   "mimetype": "text/x-python",
   "name": "python",
   "nbconvert_exporter": "python",
   "pygments_lexer": "ipython3",
   "version": "3.11.7"
  },
  "widgets": {
   "application/vnd.jupyter.widget-state+json": {
    "state": {},
    "version_major": 2,
    "version_minor": 0
   }
  }
 },
 "nbformat": 4,
 "nbformat_minor": 5
}
