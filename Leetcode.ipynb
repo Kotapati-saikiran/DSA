{
 "cells": [
  {
   "cell_type": "code",
   "execution_count": 3,
   "id": "b579a652-e1a9-4491-a881-2465a3979679",
   "metadata": {},
   "outputs": [],
   "source": [
    "#02.two linked lists sum\n",
    "#class ListNode(object):\n",
    "#    def __init__(self, val=0, next=None):\n",
    "#        self.val = val\n",
    "#        self.next = next\n",
    "class Solution(object):\n",
    "    def addTwoNumbers(self, l1, l2):\n",
    "        h=ListNode()\n",
    "        c=h\n",
    "        carry=0\n",
    "        while(l1!=None or l2!=None or carry!=None):\n",
    "            l1_value=l1.val if l1 else 0\n",
    "            l2_value=l2.val if l2 else 0\n",
    "            t=l1_value + l2_value + carry\n",
    "            c.next=ListNode(t%10)\n",
    "            carry=t//10\n",
    "            l1=l1.next if l1 else None\n",
    "            l2=l2.next if l2 else None\n",
    "            c=c.next\n",
    "        return head.next"
   ]
  },
  {
   "cell_type": "code",
   "execution_count": 36,
   "id": "f9bd92ba-d426-40a9-805a-1af37fcfae5a",
   "metadata": {},
   "outputs": [
    {
     "name": "stdout",
     "output_type": "stream",
     "text": [
      "3\n"
     ]
    }
   ],
   "source": [
    "#03.length of longest sub string\n",
    "s=\"abcabcbb\"\n",
    "arr={}\n",
    "l=0\n",
    "llen=0\n",
    "for i in range(len(s)):\n",
    "    if(s[i] in arr):\n",
    "        l=max(arr[s[i]]+1,l)\n",
    "        #print(l)\n",
    "    arr[s[i]]=i\n",
    "    #print(arr[s[i]])\n",
    "    llen=max(llen,i-l+1)\n",
    "print(llen)  "
   ]
  },
  {
   "cell_type": "code",
   "execution_count": 4,
   "id": "70fb79fb-4a1a-4bc6-988c-4f086c226974",
   "metadata": {},
   "outputs": [
    {
     "name": "stdin",
     "output_type": "stream",
     "text": [
      " 123\n"
     ]
    },
    {
     "name": "stdout",
     "output_type": "stream",
     "text": [
      "321\n"
     ]
    }
   ],
   "source": [
    "#07.Reverse integer and it should not cross 32 bit\n",
    "x=int(input())\n",
    "flag=False\n",
    "if(x<0):\n",
    "    flag=True\n",
    "    x=-x\n",
    "res = 0\n",
    "while(x>0):\n",
    "    r=x % 10\n",
    "    res = (res * 10) + r\n",
    "    x = x // 10\n",
    "if(res > 2**31-1 or res < -2**31):\n",
    "    print(0)\n",
    "if flag:\n",
    "    print(-res)\n",
    "else:\n",
    "    print(res)"
   ]
  },
  {
   "cell_type": "code",
   "execution_count": 42,
   "id": "6e346a64-f0f7-4781-893c-f88a8c106d23",
   "metadata": {},
   "outputs": [
    {
     "name": "stdin",
     "output_type": "stream",
     "text": [
      " \"(]\"\n"
     ]
    },
    {
     "name": "stdout",
     "output_type": "stream",
     "text": [
      "false\n"
     ]
    }
   ],
   "source": [
    "#09.Valid parenthese\n",
    "def isValid(s):\n",
    "    stack = []\n",
    "    for char in s:\n",
    "        if char in \"({[\":\n",
    "            stack.append(char)\n",
    "        elif char in \")}]\":\n",
    "            if(len(stack)==0):\n",
    "                return False\n",
    "                break\n",
    "            top = stack.pop()\n",
    "            if (char == ')' and top != '(') or (char == '}' and top != '{') or (char == ']' and top != '['):\n",
    "                return False\n",
    "                break\n",
    "    if not stack:\n",
    "        return True\n",
    "s=input()\n",
    "res=isValid(s)\n",
    "print(res)"
   ]
  },
  {
   "cell_type": "code",
   "execution_count": 34,
   "id": "c5576555-522b-49cc-8db9-fde8a3dbfd6a",
   "metadata": {},
   "outputs": [
    {
     "name": "stdin",
     "output_type": "stream",
     "text": [
      " 1 2 3 0 0 0\n",
      " 2 5 6\n"
     ]
    },
    {
     "name": "stdout",
     "output_type": "stream",
     "text": [
      "[1, 2, 2, 3, 5, 6]\n"
     ]
    }
   ],
   "source": [
    "#88.Merge Sorted Array\n",
    "nums1=list(map(int,input().split()))\n",
    "m=3\n",
    "nums2=list(map(int,input().split()))\n",
    "n=3\n",
    "i=m-1\n",
    "j=n-1\n",
    "k=m+n-1\n",
    "while(i>=0 and j>=0):\n",
    "    if(nums1[i]>nums2[j]):\n",
    "        nums1[k]=nums1[i]\n",
    "        i-=1\n",
    "    else:\n",
    "        nums1[k]=nums2[j]\n",
    "        j-=1\n",
    "    k-=1\n",
    "while j >= 0:\n",
    "    nums[k] = nums2[j]\n",
    "    j -= 1\n",
    "    k -= 1\n",
    "print(nums1)"
   ]
  },
  {
   "cell_type": "code",
   "execution_count": 26,
   "id": "17adde8b-f732-4431-96c8-b10f6587bfc4",
   "metadata": {},
   "outputs": [
    {
     "name": "stdout",
     "output_type": "stream",
     "text": [
      "7\n",
      "[0, 0, 1, 1, 2, 3, 3]\n"
     ]
    }
   ],
   "source": [
    "#80.Remove Duplicates from Sorted Array II\n",
    "def r(nums):\n",
    "    j=1\n",
    "    c=1\n",
    "    for i in range(1,len(nums)):\n",
    "        if(nums[i]!=nums[i-1]):\n",
    "            c=1\n",
    "        else:\n",
    "            c+=1\n",
    "        if(c<=2):\n",
    "            nums[j]=nums[i]\n",
    "            j+=1\n",
    "    return j\n",
    "nums=[0,0,1,1,1,1,2,3,3]\n",
    "res=r(nums)\n",
    "print(res)\n",
    "print(nums[:res])"
   ]
  },
  {
   "cell_type": "code",
   "execution_count": 88,
   "id": "c8049bc0-bc9d-4ac0-b2cf-066dac65e00e",
   "metadata": {},
   "outputs": [
    {
     "name": "stdin",
     "output_type": "stream",
     "text": [
      " 3 3 4\n"
     ]
    },
    {
     "name": "stdout",
     "output_type": "stream",
     "text": [
      "3\n"
     ]
    }
   ],
   "source": [
    "#169. Majority Element\n",
    "nums=list(map(int,input().split()))\n",
    "m_c=0\n",
    "m_e=None\n",
    "for i in range(len(nums)//2):\n",
    "    c=0\n",
    "    for j in range(len(nums)//2):\n",
    "        if(nums[j]==nums[i]):\n",
    "            c+=1\n",
    "    if(c>m_c):\n",
    "        m_e=nums[i]\n",
    "        break\n",
    "print(m_e)\n",
    "#------------------------------------\n",
    "#nums=list(map(int,input().split()))\n",
    "#c=0\n",
    "#m=0\n",
    "#for i in range(len(nums)):\n",
    "    #if(c==0 and m!=nums[i]):\n",
    "        #m=nums[i]\n",
    "        #c+=1\n",
    "    #elif(m==nums[i]):\n",
    "        #c+=1\n",
    "    #else:\n",
    "        #c-=1\n",
    "#print(m)\n",
    "#-------------------------------------------\n",
    "#nums=list(map(int,input().split()))\n",
    "#nums.sort()\n",
    "#print(nums[len(nums)//2])\""
   ]
  },
  {
   "cell_type": "code",
   "execution_count": 73,
   "id": "3205db0f-0798-4e02-aad7-0e7fb0771884",
   "metadata": {},
   "outputs": [
    {
     "name": "stdout",
     "output_type": "stream",
     "text": [
      "[5, 6, 7, 1, 2, 3, 4]\n"
     ]
    }
   ],
   "source": [
    "#189. Rotate Array\n",
    "def rotate(nums, k):\n",
    "    k=k%len(nums) #if length array is bigger than the k\n",
    "    nums.reverse()\n",
    "    nums[:k] = reversed(nums[:k])\n",
    "    #print(nums[:k])\n",
    "    nums[k:] = reversed(nums[k:])\n",
    "    #print(nums[k:])\n",
    "nums = [1,2,3,4,5,6,7]\n",
    "k = 3\n",
    "rotate(nums, k)\n",
    "print(nums) "
   ]
  },
  {
   "cell_type": "code",
   "execution_count": 75,
   "id": "c2294b7a-cc65-46c6-b34c-8e7c08fb3a99",
   "metadata": {},
   "outputs": [
    {
     "name": "stdout",
     "output_type": "stream",
     "text": [
      "5\n"
     ]
    }
   ],
   "source": [
    "#121.Best Time to Buy and Sell Stock\n",
    "def maxProfit(nums):\n",
    "    max_profit=0\n",
    "    min_price=nums[0]\n",
    "    c=0\n",
    "    for i in range(1, len(nums)):\n",
    "        if(nums[i]<min_price):\n",
    "            min_price=nums[i]\n",
    "        else:\n",
    "            c=nums[i]-min_price  \n",
    "            if(c>max_profit):\n",
    "                max_profit=c\n",
    "    return max_profit\n",
    "nums=[7,1,5,3,6,4]\n",
    "res=maxProfit(nums)\n",
    "print(res)\n",
    "#-------------------------------------\n",
    "#nums = [7,1,5,3,6,4]\n",
    "#max_profit = 0\n",
    "#sell = 1  \n",
    "#for buy in range(len(nums) - 1):  \n",
    "#    sell = buy + 1 \n",
    "#    c=0\n",
    "#   while sell < len(nums):  \n",
    "#        if nums[buy] < nums[sell]:  \n",
    "#            c = nums[sell] - nums[buy]\n",
    "#           if c > max_profit:\n",
    "#                max_profit = c\n",
    "#        sell += 1  \n",
    "#print(max_profit)'''\n",
    "#--------------------------------------------\n",
    "#nums=[7,1,5,3,6,4] #time limit exceeded\n",
    "#max_profit=0\n",
    "#c=0\n",
    "#or buy in range(len(nums)):\n",
    "#    for sell in range(buy+1,len(nums)):\n",
    "#        if(nums[buy]<nums[sell]):\n",
    "#            c=nums[sell]-nums[buy]\n",
    "#            if(c>max_profit):\n",
    "#                max_profit=c\n",
    "#print(max_profit)"
   ]
  },
  {
   "cell_type": "code",
   "execution_count": 105,
   "id": "8903eeb7-c65e-4986-9838-fdde80727d9f",
   "metadata": {},
   "outputs": [
    {
     "name": "stdout",
     "output_type": "stream",
     "text": [
      "7\n"
     ]
    }
   ],
   "source": [
    "#122. Best Time to Buy and Sell Stock II\n",
    "nums=[7,1,5,3,6,4]\n",
    "max_profit=0\n",
    "c=0\n",
    "i=0\n",
    "for j in range(1,len(nums),1):\n",
    "    if(nums[j]>nums[i]):\n",
    "        c+=nums[j]-nums[i]\n",
    "    i+=1\n",
    "    if(c>max_profit):\n",
    "        max_profit=c\n",
    "print(max_profit)"
   ]
  },
  {
   "cell_type": "code",
   "execution_count": 35,
   "id": "9c3d9f55-568b-4768-a219-41b86fa587b4",
   "metadata": {},
   "outputs": [
    {
     "name": "stdout",
     "output_type": "stream",
     "text": [
      "2\n"
     ]
    }
   ],
   "source": [
    "#28. Find the Index of the First Occurrence in a String\n",
    "# we can using slicing||pre-defined fun find\n",
    "haystack = \"hello\"\n",
    "needle = \"ll\"\n",
    "a=-1\n",
    "for i in range((len(haystack)-len(needle))+1):\n",
    "    for j in range(len(needle)):\n",
    "        if(haystack[i+j]!=needle[j]):\n",
    "            break\n",
    "    else:\n",
    "        a=i\n",
    "        break\n",
    "print(a)"
   ]
  },
  {
   "cell_type": "code",
   "execution_count": 51,
   "id": "270d952a-c079-478b-b647-fb3074797700",
   "metadata": {},
   "outputs": [
    {
     "name": "stdout",
     "output_type": "stream",
     "text": [
      "True\n"
     ]
    }
   ],
   "source": [
    "#55.Jump Game\n",
    "nums=[2,3,1,1,4]\n",
    "a=0\n",
    "i=0\n",
    "while(i<=a and i<len(nums)-1):\n",
    "    a=max(a,i+nums[i])#main \n",
    "    if(a>=len(nums)-1):\n",
    "        print(True)\n",
    "        break\n",
    "    i+=1\n",
    "else:\n",
    "    print(False)\n",
    "#------------------------------\n",
    "#nums=[3,2,1,0,4]\n",
    "#s=0\n",
    "#for i in range(len(nums)):\n",
    "#    if(i>s):\n",
    "#        print(\"f\")\n",
    "#        break\n",
    "#    s=max(s,i+nums[i])\n",
    "#else:\n",
    "#    print(\"t\")\n",
    "#---------------------------------\n",
    "#using dp method nums=[2,3,1,1,4]\n",
    "#L = len(nums)\n",
    "#dp = [False] * L\n",
    "#dp[0] = True\n",
    "#for i in range(L):\n",
    "#    if dp[i]:\n",
    "#        r = i + nums[i]+1 if i + nums[i] <= L else L\n",
    "#        print(r)\n",
    "#        dp[:r] = [True] * (r)\n",
    "#        print(dp[:r])\n",
    "#print(dp[-1])"
   ]
  },
  {
   "cell_type": "code",
   "execution_count": 21,
   "id": "9c0fac6c-d512-4010-9c56-bc64717c43da",
   "metadata": {},
   "outputs": [
    {
     "name": "stdout",
     "output_type": "stream",
     "text": [
      "2\n"
     ]
    }
   ],
   "source": [
    "#45. Jump Game II\n",
    "nums=[2,3,1,1,4]\n",
    "s=0\n",
    "i=0\n",
    "c=0\n",
    "x=0\n",
    "while(i<len(nums)-1):\n",
    "    x=max(x,i+nums[i])\n",
    "    if(i==s):\n",
    "        c+=1\n",
    "        s=x\n",
    "        if(s>=len(nums)-1):\n",
    "            break\n",
    "    i+=1\n",
    "print(c)\n",
    "#-------------------------------------------\n",
    "#shorter code\n",
    "#-------------------------\n",
    "#nums=[2,3,1,1,4]\n",
    "#s=x=c=0\n",
    "#for i in range(len(nums)-1):\n",
    "#       x=max(x,i+nums[i])\n",
    "#       if(i==s):\n",
    "#              c+=1\n",
    "#              s=x\n",
    "#              if(s>=len(nums)-1):\n",
    "#                     break\n",
    "#print(c)"
   ]
  },
  {
   "cell_type": "code",
   "execution_count": 54,
   "id": "153762d5-cbda-43c0-b809-e57f9d07145d",
   "metadata": {},
   "outputs": [
    {
     "name": "stdout",
     "output_type": "stream",
     "text": [
      "3\n"
     ]
    }
   ],
   "source": [
    "#274. H-Index\n",
    "#Definition: A researcher has an H-Index of h if they have at least h papers that have been cited at least h times each.\n",
    "#Purpose: It aims to capture the balance between the quantity (number of papers) and quality (number of citations) of a researcher's work.\n",
    "citations=[3,0,6,1,5]\n",
    "citations.sort(reverse=True)#first sort desc then \n",
    "c=0\n",
    "for i in range(len(citations)):\n",
    "    if(citations[i]>=i+1):\n",
    "        c+=1\n",
    "        if(i>=c):\n",
    "            break\n",
    "print(c)"
   ]
  },
  {
   "cell_type": "code",
   "execution_count": 74,
   "id": "95a4ea8e-45a4-4784-9df4-c13cd0197197",
   "metadata": {},
   "outputs": [
    {
     "name": "stdout",
     "output_type": "stream",
     "text": [
      "False\n"
     ]
    }
   ],
   "source": [
    "#125. Valid Palindrome\n",
    "s = \"race a car\"\n",
    "s=s.lower()\n",
    "result=''\n",
    "for char in s:\n",
    "    if(char.isalnum()):  \n",
    "        result+= char\n",
    "a=result[::-1]\n",
    "if(a==result):\n",
    "    print(True)\n",
    "else:\n",
    "    print(False)\n",
    "#---------------------------\n",
    "#if we want remove spaces or numbers special chars\n",
    "#import re\n",
    "#s = re.sub(r'[^a-z0-9]', '', s) if not u can go to the 4 line of above code"
   ]
  },
  {
   "cell_type": "code",
   "execution_count": 55,
   "id": "5cea6052-ef48-487e-87da-19ff566704ef",
   "metadata": {},
   "outputs": [
    {
     "name": "stdout",
     "output_type": "stream",
     "text": [
      "[-2, -2, 1, -4, -2, -3]\n",
      "-3\n"
     ]
    }
   ],
   "source": [
    "#303. Range Sum Query - Immutable\n",
    "nums=[-2, 0, 3, -5, 2, -1]\n",
    "l=[0] * len(nums)\n",
    "l[0]=nums[0]\n",
    "for i in range(1,len(nums)):\n",
    "    l[i]=l[i-1]+nums[i]\n",
    "left=0\n",
    "right=5\n",
    "a=nums[left:right+1]\n",
    "print(sum(a))\n",
    "#-----------------\n",
    "#shorter version correct version for leetcode\n",
    "#def __init__(self, nums):\n",
    "#    self.nums=nums\n",
    "#def sumRange(self, left, right):\n",
    "#    return sum(self.nums[left:right+1])\n",
    "#(left,right)= (0,2) (2,5) (0,5)"
   ]
  },
  {
   "cell_type": "code",
   "execution_count": 86,
   "id": "a2452e98-2fef-4414-be8d-fbb0d438b712",
   "metadata": {},
   "outputs": [
    {
     "name": "stdout",
     "output_type": "stream",
     "text": [
      "6\n"
     ]
    }
   ],
   "source": [
    "#525. Contiguous Array \n",
    "#using hash map\n",
    "nums=[1,1,0,0,1,1,0,1,1]\n",
    "for _ in range(len(nums)):\n",
    "    if(nums[_]==0):\n",
    "        nums[_]=-1\n",
    "sum=0\n",
    "d={0:-1}\n",
    "max_len=0\n",
    "for i in range(len(nums)):\n",
    "    sum+=nums[i]\n",
    "    if(sum in d):\n",
    "        max_len=max(max_len,i-d[sum])\n",
    "    else:\n",
    "        d[sum]=i\n",
    "print(max_len)"
   ]
  },
  {
   "cell_type": "code",
   "execution_count": 30,
   "id": "b7a57911-f699-4f9c-8ada-1e53859afda7",
   "metadata": {},
   "outputs": [
    {
     "name": "stdout",
     "output_type": "stream",
     "text": [
      "{9: 1, 13: 1, 33: 1, 36: 1, 46: 1, 51: 1}\n",
      "2\n"
     ]
    }
   ],
   "source": [
    "#560. Subarray Sum Equals K\n",
    "nums = [9, 4, 20, 3, 10, 5]\n",
    "k = 33\n",
    "sum = 0\n",
    "count = 0\n",
    "d = {}\n",
    "for i in range(len(nums)):\n",
    "    sum += nums[i]\n",
    "    if sum == k:\n",
    "        count += 1\n",
    "    if (sum -k) in d:\n",
    "        count += d[sum - k]\n",
    "    if sum in d:\n",
    "        d[sum] += 1\n",
    "    else:\n",
    "        d[sum] = 1\n",
    "print(d)\n",
    "print(count)"
   ]
  },
  {
   "cell_type": "code",
   "execution_count": 18,
   "id": "e8092e36-7266-4d85-a902-9497240cd072",
   "metadata": {},
   "outputs": [
    {
     "name": "stdout",
     "output_type": "stream",
     "text": [
      "c\n"
     ]
    }
   ],
   "source": [
    "#2351. First Letter to Appear Twice\n",
    "def appeartwice(s):\n",
    "    l=[]\n",
    "    for num in s:\n",
    "        if(num in l):\n",
    "            return num\n",
    "        else:\n",
    "            l.append(num)\n",
    "s=\"abccbaacz\"\n",
    "print(appeartwice(s))\n",
    "#------------------------------------\n",
    "#s=\"abccbaacz\"\n",
    "#l=[]\n",
    "#for c in s:\n",
    "#    if(c in l):\n",
    "#        print(c)\n",
    "#    else:\n",
    "#        l.append(c)"
   ]
  },
  {
   "cell_type": "code",
   "execution_count": 3,
   "id": "cd6ec3bb-66af-4d95-83df-f25c981aea06",
   "metadata": {},
   "outputs": [
    {
     "name": "stdin",
     "output_type": "stream",
     "text": [
      " 1\n",
      " 24\n"
     ]
    },
    {
     "name": "stdout",
     "output_type": "stream",
     "text": [
      "1\n"
     ]
    }
   ],
   "source": [
    "#2651. Calculate Delayed Arrival Time\n",
    "aT=int(input())\n",
    "dT=int(input())\n",
    "c=aT+dT\n",
    "if(c==24):\n",
    "    print(0)\n",
    "elif(c>24):\n",
    "    a=c-24\n",
    "    print(a)\n",
    "else:\n",
    "    print(c)"
   ]
  },
  {
   "cell_type": "code",
   "execution_count": 30,
   "id": "a366205f-6d67-42a5-9005-0c1e907b5db5",
   "metadata": {},
   "outputs": [
    {
     "name": "stdout",
     "output_type": "stream",
     "text": [
      "[[3], []]\n"
     ]
    }
   ],
   "source": [
    "#2215. Find the Difference of Two Arrays\n",
    "nums1=[1,2,3,3]\n",
    "nums2=[1,1,2,2]\n",
    "a=set(nums1)\n",
    "b=set(nums2)\n",
    "l1=[]\n",
    "l2=[]\n",
    "for i in a:\n",
    "    if(i not in b):\n",
    "        l1.append(i)\n",
    "for j in b:\n",
    "    if(j not in a):\n",
    "        l2.append(j)\n",
    "print([l1,l2])"
   ]
  },
  {
   "cell_type": "code",
   "execution_count": null,
   "id": "b3c2987f-494b-44f8-9312-c75c0140fc53",
   "metadata": {},
   "outputs": [],
   "source": [
    "#380. Insert Delete GetRandom O(1)\n",
    "import random\n",
    "class RandomizedSet(object):\n",
    "    def __init__(self):\n",
    "        self.l=[]\n",
    "    def insert(self, val):\n",
    "        if(val not in self.l):\n",
    "            self.l.append(val)\n",
    "            return True\n",
    "        return False\n",
    "    def remove(self, val):\n",
    "        if(val in self.l):\n",
    "            self.l.remove(val)\n",
    "            return True\n",
    "        return False\n",
    "    def getRandom(self):\n",
    "        if not self.l: \n",
    "            return None\n",
    "        return random.choice(self.l)"
   ]
  },
  {
   "cell_type": "code",
   "execution_count": 48,
   "id": "434ef831-acfa-440d-b498-b22b99ad673e",
   "metadata": {},
   "outputs": [
    {
     "name": "stdout",
     "output_type": "stream",
     "text": [
      "[24, 12, 8, 6]\n"
     ]
    }
   ],
   "source": [
    "#238. Product of Array Except Self\n",
    "nums=[1,2,3,4]\n",
    "ans=[0]*len(nums)\n",
    "ans[0]=1\n",
    "for i in range(1,len(nums)):\n",
    "    ans[i]=nums[i-1]*ans[i-1]\n",
    "r=1\n",
    "for i in range(len(nums)-1,-1,-1):\n",
    "    ans[i]*=r\n",
    "    r*=nums[i]\n",
    "print(ans)"
   ]
  },
  {
   "cell_type": "code",
   "execution_count": 9,
   "id": "bb99a4f5-e6d5-4a7d-9f34-7f8da10bc75f",
   "metadata": {},
   "outputs": [
    {
     "name": "stdout",
     "output_type": "stream",
     "text": [
      "3\n"
     ]
    }
   ],
   "source": [
    "#134. Gas Station\n",
    "nums=[1,2,3,4,5]\n",
    "cost=[3,4,5,1,2]\n",
    "f=0\n",
    "tf=0\n",
    "j=0\n",
    "for i in range(0,len(nums)):\n",
    "    a=nums[i] - cost[i]\n",
    "    f+=a\n",
    "    tf+=a\n",
    "    if(a<0):\n",
    "        f=0\n",
    "        j=i+1\n",
    "if(tf<0):\n",
    "    print(\"-1\")\n",
    "else:\n",
    "    print(j)"
   ]
  },
  {
   "cell_type": "code",
   "execution_count": 82,
   "id": "097a9c1d-5b5c-4290-8bd9-8beff57f8623",
   "metadata": {},
   "outputs": [
    {
     "name": "stdout",
     "output_type": "stream",
     "text": [
      "[2, 1, 2]\n"
     ]
    }
   ],
   "source": [
    "#135. Candy\n",
    "r=[1,0,2]\n",
    "x=[1]*len(r)\n",
    "for i in range(1,len(r)):\n",
    "    if(r[i]>r[i-1]):\n",
    "        x[i]=x[i-1]+1\n",
    "for j in range(len(r)-2,-1,-1):\n",
    "    if(r[j]>r[j+1]):\n",
    "        if(x[j]<=x[j+1]):\n",
    "            x[j]=x[j+1]+1\n",
    "print(x)"
   ]
  },
  {
   "cell_type": "code",
   "execution_count": 28,
   "id": "6da6d514-abdc-489d-a439-815d8c5b0fe1",
   "metadata": {},
   "outputs": [
    {
     "name": "stdout",
     "output_type": "stream",
     "text": [
      "6\n"
     ]
    }
   ],
   "source": [
    "#42. Trapping Rain Water\n",
    "h=[0,1,0,2,1,0,1,3,2,1,2,1]\n",
    "l=[0]*len(h)\n",
    "r=[0]*len(h)\n",
    "res=0\n",
    "l[0]=h[0]\n",
    "for i in range(1,len(h)):\n",
    "    l[i]=max(l[i-1],h[i])\n",
    "r[len(h)-1]=h[len(h)-1]\n",
    "for j in range(len(h)-2,-1,-1,):\n",
    "    r[j]=max(r[j+1],h[j])\n",
    "for k in range(len(h)):\n",
    "    res+=min(l[k],r[k])-h[k]\n",
    "print(res)"
   ]
  },
  {
   "cell_type": "code",
   "execution_count": 43,
   "id": "4fc26e17-ba05-4b08-8476-76e51f3b22fc",
   "metadata": {},
   "outputs": [
    {
     "name": "stdout",
     "output_type": "stream",
     "text": [
      "3\n"
     ]
    }
   ],
   "source": [
    "#13. Roman to Integer\n",
    "def romanToInt(s):\n",
    "    d={'I':1,'V':5,'X':10,'L':50,'C':100,'D':500,'M':1000}\n",
    "    n=len(s)\n",
    "    c=0\n",
    "    for i in range(len(s)):\n",
    "        if(i<len(s)-1 and d[s[i]]<d[s[i+1]]):\n",
    "            c-=d[s[i]]\n",
    "        else:\n",
    "            c+=d[s[i]]\n",
    "    return c\n",
    "s=\"III\"\n",
    "res=romanToInt(s)\n",
    "print(res)"
   ]
  },
  {
   "cell_type": "code",
   "execution_count": 67,
   "id": "ceaff4dd-e347-44be-9617-4ec977b41fe5",
   "metadata": {},
   "outputs": [
    {
     "name": "stdout",
     "output_type": "stream",
     "text": [
      "LVIII\n"
     ]
    }
   ],
   "source": [
    "#12. Integer to Roman\n",
    "a=58\n",
    "n=[1000, 900, 500, 400, 100, 90, 50, 40, 10, 9, 5, 4, 1]\n",
    "s=[\"M\", \"CM\", \"D\", \"CD\", \"C\", \"XC\", \"L\", \"XL\", \"X\", \"IX\", \"V\", \"IV\", \"I\"]\n",
    "res=\"\"\n",
    "i=0\n",
    "while(a>0):\n",
    "    if(a>=n[i]):\n",
    "        res=res+s[i]\n",
    "        a-=n[i]\n",
    "    else:\n",
    "        i+=1\n",
    "print(res)\n",
    "#a=3749\n",
    "#d = {1000: \"M\", 900: \"CM\", 500: \"D\", 400: \"CD\", 100: \"C\", 90: \"XC\", 50: \"L\", \n",
    "#     40: \"XL\", 10: \"X\", 9: \"IX\", 5: \"V\", 4: \"IV\", 1: \"I\"}\n",
    "#s = \"\"\n",
    "#for value in d:\n",
    "#    while(a>=value):\n",
    "#        s+=d[value]\n",
    "#        a-=value\n",
    "#print(s)"
   ]
  },
  {
   "cell_type": "code",
   "execution_count": 2,
   "id": "bd020259-e313-4711-8a64-a7c851ecc27f",
   "metadata": {},
   "outputs": [
    {
     "name": "stdout",
     "output_type": "stream",
     "text": [
      "fly me   to   the moon\n",
      "4\n"
     ]
    }
   ],
   "source": [
    "#58. Length of Last Word\n",
    "s=\"   fly me   to   the moon  \"\n",
    "a=s.strip()\n",
    "c=a.split(\" \")\n",
    "b=c[-1]\n",
    "print(len(b))"
   ]
  },
  {
   "cell_type": "code",
   "execution_count": 26,
   "id": "ef554ff6-ac0a-44e1-8f92-096c93ab1a0f",
   "metadata": {},
   "outputs": [
    {
     "name": "stdout",
     "output_type": "stream",
     "text": [
      "example good a\n"
     ]
    }
   ],
   "source": [
    "#151. Reverse Words in a String\n",
    "s=\"a good   example\"\n",
    "a=s.strip()\n",
    "b=a.split()\n",
    "l=\" \".join(b[::-1])\n",
    "print(l)"
   ]
  },
  {
   "cell_type": "code",
   "execution_count": 63,
   "id": "9e26e58b-6436-458a-937b-ce8e1515205b",
   "metadata": {},
   "outputs": [
    {
     "name": "stdout",
     "output_type": "stream",
     "text": [
      "PAHNAPLSIIGYIR\n"
     ]
    }
   ],
   "source": [
    "#6. Zigzag Conversion\n",
    "s=\"PAYPALISHIRING\"\n",
    "n=3\n",
    "if(n==1 or n>=len(s)):\n",
    "    print(s)\n",
    "else:\n",
    "    r=['' for _ in range(n)]\n",
    "    i,y=0,1\n",
    "    for char in s:\n",
    "        r[i]+=char\n",
    "        i+=y\n",
    "        if(i==0 or i==n-1):\n",
    "            y=-y\n",
    "    print(''.join(rows))"
   ]
  },
  {
   "cell_type": "code",
   "execution_count": 22,
   "id": "c7a3a9f0-4e6f-4dbc-956c-1134e004dd93",
   "metadata": {},
   "outputs": [
    {
     "name": "stdout",
     "output_type": "stream",
     "text": [
      "False\n"
     ]
    }
   ],
   "source": [
    "#3046. Split the Array\n",
    "nums=[1,1,1,1]\n",
    "d={}\n",
    "for i in nums:\n",
    "    if(i in d):\n",
    "        d[i]+=1\n",
    "    else:\n",
    "        d[i]=1\n",
    "for j in d.values():\n",
    "    if(j>2):\n",
    "        print(False)\n",
    "        break\n",
    "else:\n",
    "    print(True)"
   ]
  },
  {
   "cell_type": "code",
   "execution_count": 23,
   "id": "a6f29026-bb07-4817-ae65-c37f02e53578",
   "metadata": {},
   "outputs": [
    {
     "name": "stdout",
     "output_type": "stream",
     "text": [
      "AceCreIm\n"
     ]
    }
   ],
   "source": [
    "#345. Reverse Vowels of a String\n",
    "s=\"IceCreAm\"\n",
    "l1=['a','e','i','o','u','A','E','I','O','U']\n",
    "l3=[]\n",
    "for i in range(len(s)):\n",
    "    if(s[i] in l1):\n",
    "        l3.append(s[i])\n",
    "x=l3[::-1]\n",
    "b=list(s)\n",
    "v=0\n",
    "for i in range(len(b)):\n",
    "    if(b[i] in l1):\n",
    "        b[i]=x[v]\n",
    "        v+=1\n",
    "o=''.join(b)\n",
    "print(o)"
   ]
  },
  {
   "cell_type": "code",
   "execution_count": 27,
   "id": "9e72b886-ebf6-41d8-b343-9a6b86091314",
   "metadata": {},
   "outputs": [
    {
     "name": "stdout",
     "output_type": "stream",
     "text": [
      "[-60, -120, -36, -33, 53, 79]\n",
      "-117\n"
     ]
    }
   ],
   "source": [
    "#682. Baseball Game\n",
    "def calPoints(k):\n",
    "    l=[]\n",
    "    for i in range(len(k)):\n",
    "        if(k[i]=='C'):\n",
    "            l.pop()\n",
    "        elif(k[i]=='D'):\n",
    "            if(k[i-1].isdigit()):\n",
    "                s=i-1\n",
    "            else:\n",
    "                s=i-2\n",
    "            l.append(l[-1]*2)\n",
    "        elif(k[i]=='+'):\n",
    "            #t=len(l)\n",
    "            l.append(l[-1]+l[-2])\n",
    "        else:\n",
    "            l.append(int(k[i]))\n",
    "    print(l)\n",
    "    return sum(l)\n",
    "k=[\"-60\",\"D\",\"-36\",\"30\",\"13\",\"C\",\"C\",\"-33\",\"53\",\"79\"]\n",
    "res=calPoints(k)\n",
    "print(res)"
   ]
  },
  {
   "cell_type": "code",
   "execution_count": 39,
   "id": "a3c78c5e-954b-40c2-9328-6a9112e668d6",
   "metadata": {},
   "outputs": [
    {
     "name": "stdout",
     "output_type": "stream",
     "text": [
      "1\n",
      "False\n"
     ]
    }
   ],
   "source": [
    "#392. Is Subsequence\n",
    "s = \"axc\"\n",
    "t = \"ahbgdc\"\n",
    "i=0\n",
    "j=0\n",
    "while(i<len(s) and j<len(t)):\n",
    "    if(s[i]==t[j]):\n",
    "        i+=1\n",
    "    j+=1\n",
    "print(i)\n",
    "if(i==len(s)):\n",
    "    print(True)\n",
    "else:\n",
    "    print(False)"
   ]
  },
  {
   "cell_type": "code",
   "execution_count": 43,
   "id": "2c378ba7-c40e-46c6-8819-1f2f8f62f1da",
   "metadata": {},
   "outputs": [
    {
     "name": "stdout",
     "output_type": "stream",
     "text": [
      "[0, 1]\n"
     ]
    }
   ],
   "source": [
    "#167. Two Sum II - Input Array Is Sorted\n",
    "nums=[2,7,11,15]\n",
    "t=9\n",
    "i=0\n",
    "j=len(nums)-1\n",
    "while(i<j):\n",
    "    a=nums[i]+nums[j]\n",
    "    if(a==t):\n",
    "        print([i+1,j+1])\n",
    "        break\n",
    "    elif(a<t):\n",
    "        i+=1\n",
    "    else:\n",
    "        j-=1"
   ]
  },
  {
   "cell_type": "code",
   "execution_count": 29,
   "id": "41070072-8eaf-446c-a41d-570cafbb01af",
   "metadata": {},
   "outputs": [
    {
     "name": "stdout",
     "output_type": "stream",
     "text": [
      "['This    is    an', 'example  of text', 'justification.  ']\n"
     ]
    }
   ],
   "source": [
    "def fullJustify(words, maxWidth):\n",
    "    res, cur, num_of_letters = [], [], 0\n",
    "    for w in words:\n",
    "        if num_of_letters + len(w) + len(cur) > maxWidth:\n",
    "            for i in range(maxWidth - num_of_letters):\n",
    "                cur[i%(len(cur)-1 or 1)] += ' '\n",
    "            res.append(''.join(cur))\n",
    "            cur, num_of_letters = [], 0\n",
    "        cur += [w]\n",
    "        num_of_letters += len(w)\n",
    "    return res + [' '.join(cur).ljust(maxWidth)]\n",
    "words=[\"This\", \"is\", \"an\", \"example\", \"of\", \"text\", \"justification.\"]\n",
    "maxWidth=16\n",
    "xs=fullJustify(words,maxWidth)\n",
    "print(xs)"
   ]
  },
  {
   "cell_type": "code",
   "execution_count": 2,
   "id": "7a242b7f-8557-4185-8ab3-5c907a337a3e",
   "metadata": {},
   "outputs": [
    {
     "name": "stdout",
     "output_type": "stream",
     "text": [
      "49\n"
     ]
    }
   ],
   "source": [
    "#11. Container With Most Water\n",
    "nums=[1,8,6,2,5,4,8,3,7]\n",
    "i,j=0,len(nums)-1\n",
    "s=0\n",
    "while(i<j):\n",
    "    a=(j-i)*min(nums[i],nums[j])\n",
    "    s=max(s,a)\n",
    "    if(nums[i]<nums[j]):\n",
    "        i+=1\n",
    "    else:\n",
    "        j-=1\n",
    "print(s)"
   ]
  },
  {
   "cell_type": "code",
   "execution_count": 35,
   "id": "69bc2eb8-eae1-430a-a110-2d8b414ac5ac",
   "metadata": {},
   "outputs": [
    {
     "name": "stdout",
     "output_type": "stream",
     "text": [
      "[[-1, -1, 2], [-1, 0, 1]]\n"
     ]
    }
   ],
   "source": [
    "#15. 3Sum\n",
    "a=[-1,0,1,2,-1,-4]\n",
    "a.sort()\n",
    "res=[]\n",
    "for i in range(len(a)):\n",
    "    l=i+1\n",
    "    r=len(a)-1\n",
    "    if(i>0 and a[i]==a[i-1]):\n",
    "        continue\n",
    "    while(l<r):\n",
    "        v=a[i]+a[l]+a[r]\n",
    "        if(v==0):\n",
    "            res.append([a[i],a[l],a[r]])\n",
    "            l+=1\n",
    "            r-=1\n",
    "            while(l<r and a[l]==a[l-1]):\n",
    "                l+=1\n",
    "            while(l<r and a[r]==a[r-1]):\n",
    "                r-=1\n",
    "        elif(v<0):\n",
    "            l+=1\n",
    "        else:\n",
    "            r-=1\n",
    "print(res)"
   ]
  },
  {
   "cell_type": "code",
   "execution_count": 26,
   "id": "05ae309c-ed5a-4cfd-a144-a80ded74c815",
   "metadata": {},
   "outputs": [
    {
     "name": "stdout",
     "output_type": "stream",
     "text": [
      "{2: 1, 14: 1, 18: 1, 22: 2}\n",
      "True\n"
     ]
    }
   ],
   "source": [
    "#217. Contains Duplicate\n",
    "nums=[2,14,18,22,22]\n",
    "nums.sort()\n",
    "d={}\n",
    "for i in nums:\n",
    "    if i in d:\n",
    "        d[i]+=1\n",
    "    else:\n",
    "        d[i]=1\n",
    "print(d)\n",
    "flag=False\n",
    "for value in d.values():\n",
    "    if value >= 2:\n",
    "        flag= True\n",
    "        break \n",
    "print(flag)"
   ]
  },
  {
   "cell_type": "code",
   "execution_count": 1,
   "id": "c4d3a9ee-a1a2-4ab9-8536-0822735c2aa4",
   "metadata": {},
   "outputs": [
    {
     "name": "stdout",
     "output_type": "stream",
     "text": [
      "True\n"
     ]
    }
   ],
   "source": [
    "#219. Contains Duplicate II\n",
    "nums=[1,2,3,1]\n",
    "k=3\n",
    "a={}\n",
    "s=False\n",
    "for i in range(len(nums)):\n",
    "    if(nums[i] in a):\n",
    "        if(i-a[nums[i]]<=k):\n",
    "            s=True\n",
    "            break\n",
    "    a[nums[i]]=i\n",
    "print(s)"
   ]
  },
  {
   "cell_type": "code",
   "execution_count": 21,
   "id": "6da2e757-48ae-45d3-b345-b7d8ec31569b",
   "metadata": {},
   "outputs": [
    {
     "name": "stdout",
     "output_type": "stream",
     "text": [
      "False\n"
     ]
    }
   ],
   "source": [
    "nums=[1,2,2,3,4,5]\n",
    "idx = 3\n",
    "va = 0\n",
    "if(idx==0):\n",
    "    print(False)\n",
    "    \n",
    "i = 0\n",
    "j = idx\n",
    "nums.sort()\n",
    "found = False\n",
    "while j < len(nums) and i < idx:\n",
    "    if abs(nums[i] - nums[j]) <= va:\n",
    "        print(True)\n",
    "        found = True\n",
    "        break\n",
    "    i += 1\n",
    "    j += 1\n",
    "if not found:\n",
    "    print(False)"
   ]
  },
  {
   "cell_type": "code",
   "execution_count": 14,
   "id": "f1ed9797-6883-48ea-bdaf-95f6b3f4e4a5",
   "metadata": {},
   "outputs": [
    {
     "name": "stdout",
     "output_type": "stream",
     "text": [
      "False\n"
     ]
    }
   ],
   "source": [
    "def contains_nearby_almost_duplicate(nums, idx, va):\n",
    "    l = set()\n",
    "    for i in range(len(nums)):\n",
    "        if i >= idx:\n",
    "            l.remove(nums[i - idx-1])\n",
    "        for j in l:\n",
    "            if abs(nums[i] - j) <= va:\n",
    "                return True  \n",
    "        l.add(nums[i])\n",
    "    return False  \n",
    "nums = [1,5,9,1,5,9]\n",
    "idx = 2\n",
    "va = 3\n",
    "print(contains_nearby_almost_duplicate(nums, idx, va))  "
   ]
  },
  {
   "cell_type": "code",
   "execution_count": 3,
   "id": "792803ac-0be6-4849-8483-2781ba284a0c",
   "metadata": {},
   "outputs": [
    {
     "name": "stdout",
     "output_type": "stream",
     "text": [
      "3 --> 2 --> 1 --> None\n"
     ]
    }
   ],
   "source": [
    "class Node:\n",
    "    def __init__(self, data):  # creating of node\n",
    "        self.data = data  # node have data right for that\n",
    "        self.ref = None  # node have ref right for that initially its value is none because we don't have any elements in LL\n",
    "\n",
    "# Traversal operation\n",
    "class LinkedList:\n",
    "    def __init__(self):\n",
    "        self.head = None\n",
    "\n",
    "    def traversal(self):\n",
    "        if self.head is None:\n",
    "            print(\"Linked list is empty.\")\n",
    "        else:\n",
    "            n = self.head  # head as n\n",
    "            while n is not None:  # n is not none\n",
    "                print(n.data, \"-->\", end=\" \")\n",
    "                n = n.ref \n",
    "            print(\"None\")  \n",
    "    def add_begin(self, data):\n",
    "        new_node = Node(data) \n",
    "        new_node.ref = self.head\n",
    "        self.head = new_node\n",
    "        \n",
    "ll = LinkedList()\n",
    "ll.add_begin(1)\n",
    "ll.add_begin(2)\n",
    "ll.add_begin(3)\n",
    "ll.traversal()"
   ]
  }
 ],
 "metadata": {
  "kernelspec": {
   "display_name": "Python 3 (ipykernel)",
   "language": "python",
   "name": "python3"
  },
  "language_info": {
   "codemirror_mode": {
    "name": "ipython",
    "version": 3
   },
   "file_extension": ".py",
   "mimetype": "text/x-python",
   "name": "python",
   "nbconvert_exporter": "python",
   "pygments_lexer": "ipython3",
   "version": "3.11.7"
  },
  "widgets": {
   "application/vnd.jupyter.widget-state+json": {
    "state": {},
    "version_major": 2,
    "version_minor": 0
   }
  }
 },
 "nbformat": 4,
 "nbformat_minor": 5
}
